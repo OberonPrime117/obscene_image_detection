{
 "cells": [
  {
   "cell_type": "code",
   "execution_count": null,
   "metadata": {},
   "outputs": [],
   "source": [
    "import os\n",
    "import requests\n",
    "import concurrent.futures\n",
    "import cv2\n",
    "import numpy as np\n",
    "from PIL import Image, UnidentifiedImageError\n",
    "import csv\n",
    "from nudenet import NudeDetector\n",
    "# REFER IF NUDENET STOPS WORKING - https://stackoverflow.com/questions/70696761/python-nsfw-detection-module-nudenet-not-longer-working\n",
    "import pandas as pd\n",
    "import matplotlib.pyplot as plt"
   ]
  },
  {
   "cell_type": "code",
   "execution_count": null,
   "metadata": {},
   "outputs": [],
   "source": [
    "# STEP 1 : STORING RAW COLLECTION OF IMAGES IN DIRECTORY RAW_DATA & INITIATE EMPTY LIST\n",
    "directory = 'raw_data'\n",
    "file_contents = []\n",
    "\n",
    "'''\n",
    "\n",
    "STOPPED DOWNLOADING AT \n",
    "http://i.imgur.com/e3P6L.jpg\n",
    "\n",
    "'''\n",
    "\n",
    "# STEP 2 : COMPARE IMGUR IMAGE WITH TEMPLATE\n",
    "img1 = cv2.imread('image_not_available.jpg')\n",
    "\n",
    "# STEP 2 : CLEANING RAW DATA AND REMOVING NOISE & GARBAGE INPUTS\n",
    "dir_path = 'data'\n",
    "\n",
    "# STEP 3 : PROVIDE ML MODEL WITH DATA & INITIATE NUDECLASSIFIER\n",
    "input_path = r\"C:\\Users\\tayad\\OneDrive\\Documents\\GitHub\\obscene_image_detection\\data\"\n",
    "classifier = NudeDetector()"
   ]
  },
  {
   "cell_type": "code",
   "execution_count": null,
   "metadata": {},
   "outputs": [],
   "source": [
    "# FUNCTION DEFINITION\n",
    "\n",
    "# FUNCTION 1.1 - DOWNLOAD_IMAGE - URL\n",
    "def download_image(url):\n",
    "    try:\n",
    "        response = requests.get(url, timeout=5)\n",
    "        print(url)\n",
    "        url_list = url.split(\"/\")\n",
    "        url_last = url_list[-1]\n",
    "        url_last = url_last.replace(\":\",\"_\")\n",
    "        url_last = url_last.replace(\"-\",\"_\")\n",
    "        url_last = url_last.replace(\".\",\"_\")\n",
    "        url_last = url_last.replace(\";\",\"_\")\n",
    "        url_last = url_last.replace(\"?\",\"_\")\n",
    "        url_last = url_last.replace(\"=\",\"_\")\n",
    "        url_last = url_last.replace(\"!\",\"_\")\n",
    "        with open(\"data/\"+str(url_last)+\".jpg\", 'wb') as f:\n",
    "            f.write(response.content)\n",
    "    except:\n",
    "        print(\"error\")\n",
    "        pass\n",
    "\n",
    "# FUNCTION 2.1 - REMOVE EMPTY IMGUR TEMPLATE IMAGES\n",
    "def compare_images(img2, loc):\n",
    "    try:\n",
    "        mse = np.mean((img1 - img2) ** 2)\n",
    "        if mse < 10:\n",
    "            os.remove(loc)\n",
    "            print(\"deleted, score: \", str(mse))\n",
    "        else:\n",
    "            print(\"The images are different\")\n",
    "    except ValueError:\n",
    "        pass\n",
    "\n",
    "# FUNCTION 2.2 - REMOVE MP4 AND GIF FILES\n",
    "def remove_mp4(img2):\n",
    "    imgval = img2[:-4]\n",
    "    img2_name = imgval.split(\"_\")\n",
    "    if \"mp4\" == img2_name[-1] or \"gif\" == img2_name[-1]:\n",
    "        os.remove(img2)\n",
    "        print(\"deleted mp4\")\n",
    "\n",
    "# FUNCTION 2.3 - REMOVE CORRUPTED IMAGES\n",
    "def corrupted_img(img2):\n",
    "    try:\n",
    "        with Image.open(img2) as img:\n",
    "            img.verify()\n",
    "    except (IOError, SyntaxError) as e:\n",
    "        os.remove(img2)\n",
    "        print(\"deleted corrupted image\")\n",
    "\n",
    "# FUNCTION 3.1 - BEGIN ML MODEL CLASSIFICATION\n",
    "def checkval(classifier, root, file_name):\n",
    "    value = os.path.join(root, file_name)\n",
    "    try:\n",
    "        dict_val = classifier.classify(value)\n",
    "        if dict_val[value][\"unsafe\"] > dict_val[value][\"safe\"]:\n",
    "            classification = \"Obscene\"\n",
    "        else:\n",
    "            classification = \"SFW\"\n",
    "\n",
    "        with open(\"output.csv\", mode=\"a\", newline=\"\") as file:\n",
    "            writer = csv.writer(file)\n",
    "            writer.writerow([value, classification])\n",
    "    except Exception as e:\n",
    "        classification = \"ERROR\"\n",
    "        with open(\"output.csv\", mode=\"a\", newline=\"\") as file:\n",
    "            writer = csv.writer(file)\n",
    "            writer.writerow([value, classification])"
   ]
  },
  {
   "cell_type": "code",
   "execution_count": null,
   "metadata": {},
   "outputs": [],
   "source": [
    "# STEP 1.1 - DOWNLOAD IMAGES FROM URLS & RENAME IMAGES\n",
    "# CALL FUNCTION 1.1\n",
    "\n",
    "for root, dirs, files in os.walk(directory):\n",
    "    for file in files:\n",
    "        file_path = os.path.join(root, file)\n",
    "        with open(file_path, 'r', encoding='utf-8') as f:\n",
    "            contents = f.read()\n",
    "            data = contents.split('\\n')\n",
    "            file_contents.extend(data)\n",
    "\n",
    "with concurrent.futures.ThreadPoolExecutor(max_workers=50) as executor:\n",
    "    futures = [executor.submit(download_image, url) for url in file_contents]\n",
    "    concurrent.futures.wait(futures)"
   ]
  },
  {
   "cell_type": "code",
   "execution_count": null,
   "metadata": {},
   "outputs": [],
   "source": [
    "# STEP 2.1 - REMOVE EMPTY IMGUR TEMPLATE IMAGES\n",
    "# CALL FUNCTION 2.1\n",
    "\n",
    "with concurrent.futures.ThreadPoolExecutor(max_workers=50) as executor:\n",
    "    for root, dirs, files in os.walk(dir_path):\n",
    "        for file in files:\n",
    "            img2 = cv2.imread(os.path.join(root, file))\n",
    "            loc = os.path.join(root, file)\n",
    "            executor.submit(compare_images, img2, loc)\n"
   ]
  },
  {
   "cell_type": "code",
   "execution_count": null,
   "metadata": {},
   "outputs": [],
   "source": [
    "# STEP 2.2 - REMOVE MP4 AND GIF FILES\n",
    "# CALL FUNCTION 2.2\n",
    "\n",
    "with concurrent.futures.ThreadPoolExecutor(max_workers=50) as executor:\n",
    "    for root, dirs, files in os.walk(dir_path):\n",
    "        for file in files:\n",
    "            img2 = os.path.join(root, file)\n",
    "            executor.submit(remove_mp4, img2)"
   ]
  },
  {
   "cell_type": "code",
   "execution_count": null,
   "metadata": {},
   "outputs": [],
   "source": [
    "# STEP 2.3 - REMOVE CORRUPTED IMAGES\n",
    "# CALL FUNCTION 2.3\n",
    "\n",
    "with concurrent.futures.ThreadPoolExecutor(max_workers=50) as executor:\n",
    "    for root, dirs, files in os.walk(dir_path):\n",
    "        for file in files:\n",
    "            img2 = os.path.join(root, file)\n",
    "            executor.submit(corrupted_img, img2)"
   ]
  },
  {
   "cell_type": "code",
   "execution_count": null,
   "metadata": {},
   "outputs": [],
   "source": [
    "# STEP 3.1 - BEGIN ML MODEL CLASSIFICATION\n",
    "# CALL FUNCTION 3.1\n",
    "\n",
    "with open(\"output.csv\", mode=\"w\", newline=\"\") as file:\n",
    "    writer = csv.writer(file)\n",
    "    writer.writerow([\"File Path\", \"Classification\"])\n",
    "\n",
    "for root, dirs, files in os.walk(input_path):\n",
    "    with concurrent.futures.ThreadPoolExecutor(max_workers=50) as executor:\n",
    "        futures = [executor.submit(checkval, classifier, root, file_name) for file_name in files]\n",
    "        concurrent.futures.wait(futures)"
   ]
  },
  {
   "cell_type": "code",
   "execution_count": null,
   "metadata": {},
   "outputs": [],
   "source": [
    "# STEP 4.1 - EXTRACT ANALYSIS FROM CLASSIFICATION\n",
    "\n",
    "%matplotlib inline\n",
    "df = pd.read_csv('output.csv')\n",
    "counts = df['Classification'].value_counts()\n",
    "print(counts)\n",
    "counts.plot(kind='bar')\n",
    "plt.show()"
   ]
  },
  {
   "cell_type": "code",
   "execution_count": null,
   "metadata": {},
   "outputs": [],
   "source": [
    "# STEP 5.1 - ERROR HANDLING\n",
    " \n",
    "for index, row in df.iterrows():\n",
    "    if row['Classification'] == 'ERROR':\n",
    "        print(row['File Path'])"
   ]
  }
 ],
 "metadata": {
  "kernelspec": {
   "display_name": "stuff",
   "language": "python",
   "name": "python3"
  },
  "language_info": {
   "codemirror_mode": {
    "name": "ipython",
    "version": 3
   },
   "file_extension": ".py",
   "mimetype": "text/x-python",
   "name": "python",
   "nbconvert_exporter": "python",
   "pygments_lexer": "ipython3",
   "version": "3.10.9"
  },
  "orig_nbformat": 4
 },
 "nbformat": 4,
 "nbformat_minor": 2
}
